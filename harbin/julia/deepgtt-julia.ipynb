{
 "cells": [
  {
   "cell_type": "code",
   "execution_count": null,
   "metadata": {},
   "outputs": [],
   "source": []
  },
  {
   "cell_type": "code",
   "execution_count": 11,
   "metadata": {},
   "outputs": [
    {
     "data": {
      "text/plain": [
       "trip2roads (generic function with 1 method)"
      ]
     },
     "execution_count": 11,
     "metadata": {},
     "output_type": "execute_result"
    }
   ],
   "source": [
    "using JLD2, FileIO, DelimitedFiles\n",
    "include(\"Trip.jl\")"
   ]
  },
  {
   "cell_type": "code",
   "execution_count": 33,
   "metadata": {},
   "outputs": [
    {
     "name": "stdout",
     "output_type": "stream",
     "text": [
      "reading trips_150103.jld2\n"
     ]
    }
   ],
   "source": [
    "jldpath = \"/home/xiucheng/data/2015-taxi/data/jldpath\"\n",
    "fnames = [\"trips_150103.jld2\"]\n",
    "\n",
    "weektrips = Trip[]\n",
    "for fname in fnames\n",
    "    println(\"reading $fname\")\n",
    "    trips = load(joinpath(jldpath, fname), \"trips\")\n",
    "    trips = filter(t -> length(t.roads)>=5, trips)\n",
    "    append!(weektrips, trips)\n",
    "end"
   ]
  },
  {
   "cell_type": "code",
   "execution_count": 35,
   "metadata": {},
   "outputs": [],
   "source": [
    "welltrips = filter(trip -> 7*60 <= trip.tms[end]-trip.tms[1]<= 46*60, \n",
    "                   weektrips);"
   ]
  },
  {
   "cell_type": "code",
   "execution_count": 36,
   "metadata": {},
   "outputs": [
    {
     "data": {
      "text/plain": [
       "Trip: 62 points"
      ]
     },
     "execution_count": 36,
     "metadata": {},
     "output_type": "execute_result"
    }
   ],
   "source": [
    "trip = welltrips[102] # 12060"
   ]
  },
  {
   "cell_type": "code",
   "execution_count": 37,
   "metadata": {},
   "outputs": [],
   "source": [
    "gps = collect(zip(trip.lon, trip.lat))\n",
    "writedlm(\"/tmp/gps.txt\", gps)\n",
    "writedlm(\"/tmp/road.txt\", trip.roads)"
   ]
  },
  {
   "cell_type": "code",
   "execution_count": null,
   "metadata": {},
   "outputs": [],
   "source": []
  },
  {
   "cell_type": "code",
   "execution_count": null,
   "metadata": {},
   "outputs": [],
   "source": []
  }
 ],
 "metadata": {
  "kernelspec": {
   "display_name": "Python 3",
   "language": "python",
   "name": "python3"
  },
  "language_info": {
   "codemirror_mode": {
    "name": "ipython",
    "version": 3
   },
   "file_extension": ".py",
   "mimetype": "text/x-python",
   "name": "python",
   "nbconvert_exporter": "python",
   "pygments_lexer": "ipython3",
   "version": "3.7.6"
  }
 },
 "nbformat": 4,
 "nbformat_minor": 4
}
